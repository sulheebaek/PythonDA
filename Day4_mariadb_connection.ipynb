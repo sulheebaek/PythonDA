{
 "cells": [
  {
   "cell_type": "markdown",
   "metadata": {},
   "source": [
    "파이썬 데이터베이스 인터페이스<p>\n",
    "\n",
    "1. mysql-connector 설치 <p>\n",
    "pip install mysql-connector"
   ]
  },
  {
   "cell_type": "markdown",
   "metadata": {},
   "source": [
    "문서 https://dev.mysql.com/doc/connector-python/en/\n",
    "\n",
    "https://dev.mysql.com/doc/connector-python/en/connector-python-examples.html"
   ]
  },
  {
   "cell_type": "markdown",
   "metadata": {},
   "source": [
    "2. MariaDB Server를 설치하고 관리자 계정 설정, 사용 가능한 데이터베이스 확인"
   ]
  },
  {
   "cell_type": "markdown",
   "metadata": {},
   "source": [
    "3. MySql Client 또는 HeidiSQL을 이용하여 test 데이터베이스에 emp 테이블 생성"
   ]
  },
  {
   "cell_type": "code",
   "execution_count": null,
   "metadata": {},
   "outputs": [],
   "source": [
    "create table emp (\n",
    "emp_no int(11) not null auto_increment,\n",
    "first_name varchar(14) not null,\n",
    "last_name varchar(16) not null,\n",
    "primary key(emp_no)\n",
    ") ENGINE=InnoDB;"
   ]
  },
  {
   "cell_type": "markdown",
   "metadata": {},
   "source": [
    "4. emp 테이블에 데이터 입력"
   ]
  },
  {
   "cell_type": "code",
   "execution_count": null,
   "metadata": {},
   "outputs": [],
   "source": [
    "insert into emp (first_name, last_name)\n",
    "values ('Sulhee', 'Baek');"
   ]
  },
  {
   "cell_type": "markdown",
   "metadata": {},
   "source": [
    "5. mysql.connector 모듈을 임포트하고 파이썬에서 접속하여 질의"
   ]
  },
  {
   "cell_type": "code",
   "execution_count": 13,
   "metadata": {},
   "outputs": [
    {
     "name": "stdout",
     "output_type": "stream",
     "text": [
      "Baek, Sulhee \n"
     ]
    }
   ],
   "source": [
    "from __future__ import print_function\n",
    "\n",
    "import mysql.connector\n",
    "from mysql.connector import errorcode\n",
    "\n",
    "cnx = mysql.connector.connect(user='root', password='python',\n",
    "                              host='127.0.0.1',\n",
    "                              database='test')\n",
    "cursor = cnx.cursor()\n",
    "\n",
    "query = (\"SELECT first_name, last_name FROM emp \")\n",
    "\n",
    "cursor.execute(query)\n",
    "\n",
    "for (first_name, last_name) in cursor:\n",
    "  print(\"{}, {} \".format(last_name, first_name))\n",
    "\n",
    "cursor.close()\n",
    "cnx.close()"
   ]
  },
  {
   "cell_type": "code",
   "execution_count": 5,
   "metadata": {},
   "outputs": [
    {
     "data": {
      "text/html": [
       "<div>\n",
       "<style scoped>\n",
       "    .dataframe tbody tr th:only-of-type {\n",
       "        vertical-align: middle;\n",
       "    }\n",
       "\n",
       "    .dataframe tbody tr th {\n",
       "        vertical-align: top;\n",
       "    }\n",
       "\n",
       "    .dataframe thead th {\n",
       "        text-align: right;\n",
       "    }\n",
       "</style>\n",
       "<table border=\"1\" class=\"dataframe\">\n",
       "  <thead>\n",
       "    <tr style=\"text-align: right;\">\n",
       "      <th></th>\n",
       "      <th>emp_no</th>\n",
       "      <th>first_name</th>\n",
       "      <th>last_name</th>\n",
       "    </tr>\n",
       "  </thead>\n",
       "  <tbody>\n",
       "    <tr>\n",
       "      <th>0</th>\n",
       "      <td>1</td>\n",
       "      <td>Sulhee</td>\n",
       "      <td>Baek</td>\n",
       "    </tr>\n",
       "  </tbody>\n",
       "</table>\n",
       "</div>"
      ],
      "text/plain": [
       "   emp_no first_name last_name\n",
       "0       1     Sulhee      Baek"
      ]
     },
     "execution_count": 5,
     "metadata": {},
     "output_type": "execute_result"
    }
   ],
   "source": [
    "import mysql.connector\n",
    "import pandas.io.sql as sql\n",
    "cnx = mysql.connector.connect(user='root', password='python',\n",
    "                              host='127.0.0.1', database='test')\n",
    "cursor = cnx.cursor()\n",
    "\n",
    "sql.read_sql('select * from emp', cnx)"
   ]
  }
 ],
 "metadata": {
  "kernelspec": {
   "display_name": "Python 2",
   "language": "python",
   "name": "python2"
  },
  "language_info": {
   "codemirror_mode": {
    "name": "ipython",
    "version": 2
   },
   "file_extension": ".py",
   "mimetype": "text/x-python",
   "name": "python",
   "nbconvert_exporter": "python",
   "pygments_lexer": "ipython2",
   "version": "2.7.15"
  }
 },
 "nbformat": 4,
 "nbformat_minor": 2
}
