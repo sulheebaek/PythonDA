{
 "cells": [
  {
   "cell_type": "code",
   "execution_count": 2,
   "metadata": {},
   "outputs": [],
   "source": [
    "import pandas as pd\n",
    "from pandas import Series, DataFrame\n",
    "import numpy as np"
   ]
  },
  {
   "cell_type": "code",
   "execution_count": null,
   "metadata": {},
   "outputs": [],
   "source": [
    "# pip install scikit-learn"
   ]
  },
  {
   "cell_type": "markdown",
   "metadata": {},
   "source": [
    "scikit-learn (sklearn) 알고리즘 선택 기준<br>\n",
    "https://scikit-learn.org/stable/tutorial/machine_learning_map/index.html"
   ]
  },
  {
   "cell_type": "markdown",
   "metadata": {},
   "source": [
    "kNN (k 최근접 이웃) 알고리즘"
   ]
  },
  {
   "cell_type": "code",
   "execution_count": 46,
   "metadata": {},
   "outputs": [],
   "source": [
    "from sklearn.model_selection import train_test_split"
   ]
  },
  {
   "cell_type": "code",
   "execution_count": 47,
   "metadata": {},
   "outputs": [],
   "source": [
    "concrete = pd.read_csv('concrete_na.csv')\n",
    "concrete.fillna(concrete.mean(), inplace=True)"
   ]
  },
  {
   "cell_type": "code",
   "execution_count": 48,
   "metadata": {},
   "outputs": [],
   "source": [
    "concrete['label'] = pd.cut(concrete.strength, 3, labels=['weak', 'normal', 'strong'])"
   ]
  },
  {
   "cell_type": "code",
   "execution_count": 49,
   "metadata": {},
   "outputs": [],
   "source": [
    "y = np.array(concrete['label'].values)\n",
    "X = concrete.iloc[:, :-2].values\n",
    "X_train, X_test, y_train, y_test = train_test_split(X, y, random_state=0)"
   ]
  },
  {
   "cell_type": "code",
   "execution_count": 50,
   "metadata": {},
   "outputs": [
    {
     "name": "stdout",
     "output_type": "stream",
     "text": [
      "테스트 세트 예측: ['weak' 'weak' 'weak' 'strong' 'normal' 'weak' 'strong' 'normal' 'weak'\n",
      " 'strong' 'normal' 'normal' 'weak' 'normal' 'normal' 'normal' 'weak'\n",
      " 'weak' 'normal' 'weak' 'normal' 'weak' 'strong' 'normal' 'normal' 'weak'\n",
      " 'weak' 'weak' 'normal' 'weak' 'normal' 'normal' 'weak' 'normal' 'strong'\n",
      " 'normal' 'normal' 'weak' 'weak' 'weak' 'weak' 'weak' 'strong' 'weak'\n",
      " 'weak' 'normal' 'strong' 'weak' 'normal' 'normal' 'strong' 'normal'\n",
      " 'weak' 'normal' 'normal' 'weak' 'normal' 'normal' 'normal' 'normal'\n",
      " 'normal' 'strong' 'weak' 'normal' 'normal' 'normal' 'normal' 'normal'\n",
      " 'weak' 'strong' 'weak' 'normal' 'normal' 'weak' 'weak' 'normal' 'normal'\n",
      " 'normal' 'weak' 'normal' 'weak' 'weak' 'normal' 'normal' 'normal'\n",
      " 'strong' 'weak' 'normal' 'normal' 'weak' 'weak' 'normal' 'normal' 'weak'\n",
      " 'weak' 'weak' 'weak' 'weak' 'weak' 'normal' 'weak' 'normal' 'strong'\n",
      " 'normal' 'normal' 'strong' 'normal' 'normal' 'weak' 'weak' 'weak' 'weak'\n",
      " 'normal' 'weak' 'weak' 'normal' 'normal' 'normal' 'normal' 'weak'\n",
      " 'normal' 'normal' 'normal' 'normal' 'normal' 'normal' 'weak' 'weak'\n",
      " 'weak' 'weak' 'weak' 'normal' 'weak' 'weak' 'weak' 'weak' 'strong'\n",
      " 'normal' 'normal' 'normal' 'normal' 'normal' 'weak' 'normal' 'weak'\n",
      " 'normal' 'strong' 'weak' 'normal' 'normal' 'strong' 'strong' 'weak'\n",
      " 'weak' 'normal' 'normal' 'strong' 'weak' 'normal' 'strong' 'normal'\n",
      " 'normal' 'normal' 'normal' 'weak' 'normal' 'normal' 'weak' 'weak'\n",
      " 'normal' 'normal' 'normal' 'normal' 'normal' 'weak' 'strong' 'weak'\n",
      " 'weak' 'normal' 'normal' 'normal' 'normal' 'normal' 'normal' 'normal'\n",
      " 'weak' 'weak' 'weak' 'strong' 'strong' 'weak' 'normal' 'strong' 'normal'\n",
      " 'weak' 'weak' 'normal' 'normal' 'weak' 'normal' 'weak' 'normal' 'weak'\n",
      " 'normal' 'normal' 'normal' 'strong' 'weak' 'normal' 'strong' 'weak'\n",
      " 'normal' 'weak' 'normal' 'weak' 'weak' 'weak' 'normal' 'weak' 'weak'\n",
      " 'normal' 'normal' 'normal' 'weak' 'normal' 'normal' 'normal' 'normal'\n",
      " 'weak' 'normal' 'strong' 'normal' 'weak' 'normal' 'strong' 'strong'\n",
      " 'normal' 'weak' 'strong' 'weak' 'weak' 'weak' 'normal' 'strong' 'strong'\n",
      " 'weak' 'normal' 'normal' 'normal' 'weak' 'normal' 'normal' 'weak'\n",
      " 'strong' 'weak' 'normal' 'normal' 'normal']\n",
      "테스트 세트 정확도: 0.895077720207\n"
     ]
    }
   ],
   "source": [
    "from sklearn.neighbors import KNeighborsClassifier\n",
    "clf = KNeighborsClassifier(n_neighbors=3)\n",
    "clf.fit(X_train, y_train)\n",
    "print('테스트 세트 예측: {}'.format(clf.predict(X_test)))\n",
    "print('테스트 세트 정확도: {}'.format(clf.score(X_train, y_train)))"
   ]
  },
  {
   "cell_type": "markdown",
   "metadata": {},
   "source": [
    "kNN 분류기 개발"
   ]
  },
  {
   "cell_type": "code",
   "execution_count": 35,
   "metadata": {},
   "outputs": [],
   "source": [
    "from numpy import array\n",
    "group = array([[1.0,1.1],[1.0,1.0],[0,0],[0,0.1]])\n",
    "labels = ['A','A','B','B']"
   ]
  },
  {
   "cell_type": "code",
   "execution_count": 44,
   "metadata": {},
   "outputs": [],
   "source": [
    "from numpy import sum, sqrt\n",
    "import operator\n",
    "\n",
    "def classify0(inX, trainSet, trainLabels, k=3):\n",
    "    # 1. 거리 계산\n",
    "    x = array(inX)\n",
    "    labels = array(trainLabels)\n",
    "    distances = sqrt(sum((trainSet-x)**2, 1))\n",
    "    \n",
    "    # 2. 간접 정렬\n",
    "    d = {}\n",
    "    for l in labels[distances.argsort()][:k]:\n",
    "        d[l] = d.get(l, 0) + 1\n",
    "    \n",
    "    # 3. 다수결\n",
    "    sortedlist = sorted(d.iteritems(), \n",
    "                        key=operator.itemgetter(1), reverse=True)\n",
    "    return sortedlist[0][0]"
   ]
  },
  {
   "cell_type": "code",
   "execution_count": 45,
   "metadata": {},
   "outputs": [
    {
     "data": {
      "text/plain": [
       "'B'"
      ]
     },
     "execution_count": 45,
     "metadata": {},
     "output_type": "execute_result"
    }
   ],
   "source": [
    "classify0([0,0], group, labels, 3)"
   ]
  },
  {
   "cell_type": "code",
   "execution_count": null,
   "metadata": {},
   "outputs": [],
   "source": [
    "    "
   ]
  }
 ],
 "metadata": {
  "kernelspec": {
   "display_name": "Python 2",
   "language": "python",
   "name": "python2"
  },
  "language_info": {
   "codemirror_mode": {
    "name": "ipython",
    "version": 2
   },
   "file_extension": ".py",
   "mimetype": "text/x-python",
   "name": "python",
   "nbconvert_exporter": "python",
   "pygments_lexer": "ipython2",
   "version": "2.7.15"
  }
 },
 "nbformat": 4,
 "nbformat_minor": 2
}
