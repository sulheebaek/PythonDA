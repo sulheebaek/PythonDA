{
 "cells": [
  {
   "cell_type": "markdown",
   "metadata": {},
   "source": [
    "Day2"
   ]
  },
  {
   "cell_type": "markdown",
   "metadata": {},
   "source": [
    "파일 다루기 연습"
   ]
  },
  {
   "cell_type": "code",
   "execution_count": 30,
   "metadata": {},
   "outputs": [],
   "source": [
    "with open('test.txt', 'w') as fo:\n",
    "    fo.write('Python \\n is\\n easy.\\n')"
   ]
  },
  {
   "cell_type": "code",
   "execution_count": 26,
   "metadata": {},
   "outputs": [
    {
     "name": "stdout",
     "output_type": "stream",
     "text": [
      "Python \n",
      " is\n",
      " easy.\n"
     ]
    }
   ],
   "source": [
    "!type test.txt"
   ]
  },
  {
   "cell_type": "code",
   "execution_count": 31,
   "metadata": {},
   "outputs": [
    {
     "name": "stdout",
     "output_type": "stream",
     "text": [
      "('1. ', 0L)\n",
      "('1. ', 'a+')\n",
      "('2. ', 51L)\n",
      "('2. ', 'a+')\n",
      "Python \n",
      " is\n",
      " easy.\n",
      "\n",
      "test\ttest\ttest\n",
      "aaa\taaa\taaa\n",
      "('3. ', 51L)\n",
      "('3. ', 'a+')\n",
      "('4. ', 9L)\n",
      "('5. ', 14L)\n",
      "('6. ', 51L)\n"
     ]
    }
   ],
   "source": [
    "with open('test.txt', 'a+') as fo:\n",
    "    print('1. ', fo.tell())\n",
    "    print('1. ', fo.mode)\n",
    "    fo.write('\\ntest\\ttest\\ttest\\naaa\\taaa\\taaa')\n",
    "    print('2. ', fo.tell())\n",
    "    print('2. ', fo.mode)\n",
    "    fo.seek(0)\n",
    "    lines = fo.read()\n",
    "    print(lines)\n",
    "    print('3. ', fo.tell())\n",
    "    print('3. ', fo.mode)\n",
    "    fo.seek(0)\n",
    "    fo.readline()\n",
    "    print('4. ', fo.tell())\n",
    "    fo.readline()\n",
    "    print('5. ', fo.tell())\n",
    "    fo.seek(0)\n",
    "    fo.readlines()\n",
    "    print('6. ', fo.tell())"
   ]
  },
  {
   "cell_type": "markdown",
   "metadata": {},
   "source": [
    "함수"
   ]
  },
  {
   "cell_type": "code",
   "execution_count": 44,
   "metadata": {},
   "outputs": [],
   "source": [
    "def func2(a, b=2, **kwargs):\n",
    "    print('func2', kwargs, type(kwargs))\n",
    "    for k in kwargs.keys():\n",
    "        print (k)"
   ]
  },
  {
   "cell_type": "code",
   "execution_count": 45,
   "metadata": {},
   "outputs": [
    {
     "name": "stdout",
     "output_type": "stream",
     "text": [
      "('func2', {'key2': 46, 'key1': 4, 'name': 'charles'}, <type 'dict'>)\n",
      "key2\n",
      "key1\n",
      "name\n",
      "('func2', {'key2': 46, 'key1': 4, 'name': 'charles'}, <type 'dict'>)\n",
      "key2\n",
      "key1\n",
      "name\n"
     ]
    }
   ],
   "source": [
    "ddict = {'key1':4, 'key2':46, 'name':'charles'}\n",
    "func2(1, 2, **ddict)\n",
    "func2(1, 2, key1=4, key2=46, name='charles')"
   ]
  },
  {
   "cell_type": "code",
   "execution_count": 40,
   "metadata": {},
   "outputs": [],
   "source": [
    "plt.figure?"
   ]
  },
  {
   "cell_type": "code",
   "execution_count": 57,
   "metadata": {},
   "outputs": [],
   "source": [
    "def func2(a, b=2, **kwargs):\n",
    "    print('func2', kwargs, type(kwargs))\n",
    "    for k in kwargs.keys():\n",
    "        print (k)"
   ]
  },
  {
   "cell_type": "code",
   "execution_count": 56,
   "metadata": {},
   "outputs": [
    {
     "data": {
      "text/plain": [
       "<Figure size 432x288 with 0 Axes>"
      ]
     },
     "metadata": {},
     "output_type": "display_data"
    }
   ],
   "source": [
    "import matplotlib.pyplot as plt\n",
    "fig = plt.figure()"
   ]
  },
  {
   "cell_type": "code",
   "execution_count": 58,
   "metadata": {},
   "outputs": [
    {
     "name": "stdout",
     "output_type": "stream",
     "text": [
      "('func2', {'key1': 3}, <type 'dict'>)\n",
      "key1\n"
     ]
    }
   ],
   "source": [
    "result = func2(3, b=1, key1=3)"
   ]
  },
  {
   "cell_type": "code",
   "execution_count": 59,
   "metadata": {},
   "outputs": [],
   "source": [
    "result"
   ]
  },
  {
   "cell_type": "markdown",
   "metadata": {},
   "source": [
    "Generator"
   ]
  },
  {
   "cell_type": "code",
   "execution_count": 88,
   "metadata": {},
   "outputs": [],
   "source": [
    "def fib_gen(n):\n",
    "    \"\"\"\n",
    "    Return one Fibonacci element at a time\n",
    "    \"\"\"\n",
    "    a, b = 0, 1\n",
    "    while b < n:\n",
    "        yield b\n",
    "        a, b = b, a+b"
   ]
  },
  {
   "cell_type": "code",
   "execution_count": 89,
   "metadata": {},
   "outputs": [],
   "source": [
    "x = fib_gen(1000)"
   ]
  },
  {
   "cell_type": "code",
   "execution_count": 106,
   "metadata": {},
   "outputs": [
    {
     "ename": "StopIteration",
     "evalue": "",
     "output_type": "error",
     "traceback": [
      "\u001b[1;31m---------------------------------------------------------------------------\u001b[0m",
      "\u001b[1;31mStopIteration\u001b[0m                             Traceback (most recent call last)",
      "\u001b[1;32m<ipython-input-106-92de4e9f6b1e>\u001b[0m in \u001b[0;36m<module>\u001b[1;34m()\u001b[0m\n\u001b[1;32m----> 1\u001b[1;33m \u001b[0mnext\u001b[0m\u001b[1;33m(\u001b[0m\u001b[0mx\u001b[0m\u001b[1;33m)\u001b[0m\u001b[1;33m\u001b[0m\u001b[0m\n\u001b[0m",
      "\u001b[1;31mStopIteration\u001b[0m: "
     ]
    }
   ],
   "source": [
    "next(x)"
   ]
  },
  {
   "cell_type": "code",
   "execution_count": 87,
   "metadata": {},
   "outputs": [
    {
     "name": "stdout",
     "output_type": "stream",
     "text": [
      "1 1 2 3 5 8 13 21 34 55 89 144 233 377 610 987\n"
     ]
    }
   ],
   "source": [
    "for x in fib_gen(1000):\n",
    "    print (x),"
   ]
  },
  {
   "cell_type": "code",
   "execution_count": null,
   "metadata": {},
   "outputs": [],
   "source": []
  },
  {
   "cell_type": "code",
   "execution_count": 84,
   "metadata": {},
   "outputs": [
    {
     "data": {
      "text/plain": [
       "32"
      ]
     },
     "execution_count": 84,
     "metadata": {},
     "output_type": "execute_result"
    }
   ],
   "source": [
    "import sys\n",
    "sys.getsizeof(xrange(1000))"
   ]
  },
  {
   "cell_type": "code",
   "execution_count": null,
   "metadata": {},
   "outputs": [],
   "source": []
  },
  {
   "cell_type": "code",
   "execution_count": 85,
   "metadata": {},
   "outputs": [
    {
     "data": {
      "text/plain": [
       "8064"
      ]
     },
     "execution_count": 85,
     "metadata": {},
     "output_type": "execute_result"
    }
   ],
   "source": [
    "sys.getsizeof(range(1000))"
   ]
  },
  {
   "cell_type": "code",
   "execution_count": 111,
   "metadata": {},
   "outputs": [
    {
     "data": {
      "text/plain": [
       "8064"
      ]
     },
     "execution_count": 111,
     "metadata": {},
     "output_type": "execute_result"
    }
   ],
   "source": [
    "import sys\n",
    "sys.getsizeof(range(1000))"
   ]
  },
  {
   "cell_type": "code",
   "execution_count": 112,
   "metadata": {},
   "outputs": [
    {
     "data": {
      "text/plain": [
       "32"
      ]
     },
     "execution_count": 112,
     "metadata": {},
     "output_type": "execute_result"
    }
   ],
   "source": [
    "sys.getsizeof(xrange(1000))"
   ]
  },
  {
   "cell_type": "code",
   "execution_count": 113,
   "metadata": {},
   "outputs": [
    {
     "name": "stdout",
     "output_type": "stream",
     "text": [
      "100000 loops, best of 3: 5.08 µs per loop\n"
     ]
    }
   ],
   "source": [
    "%timeit range(1000)"
   ]
  },
  {
   "cell_type": "code",
   "execution_count": 115,
   "metadata": {},
   "outputs": [
    {
     "name": "stdout",
     "output_type": "stream",
     "text": [
      "The slowest run took 9.32 times longer than the fastest. This could mean that an intermediate result is being cached.\n",
      "10000000 loops, best of 3: 110 ns per loop\n"
     ]
    }
   ],
   "source": [
    "%timeit xrange(1000)"
   ]
  },
  {
   "cell_type": "markdown",
   "metadata": {},
   "source": [
    "기타 특수 함수들"
   ]
  },
  {
   "cell_type": "code",
   "execution_count": 142,
   "metadata": {},
   "outputs": [],
   "source": [
    "class A:\n",
    "    def __init__(self, member):\n",
    "        self.member = member\n",
    "        self._hidden = member*2.0\n",
    "    def __repr__(self):\n",
    "        return '[__repr__()] A, member is %i' % self.member\n",
    "    def __str__(self):\n",
    "        return '[__str__()] A, member is %i' % self.member"
   ]
  },
  {
   "cell_type": "code",
   "execution_count": 143,
   "metadata": {},
   "outputs": [],
   "source": [
    "a = A(7)"
   ]
  },
  {
   "cell_type": "code",
   "execution_count": 144,
   "metadata": {},
   "outputs": [
    {
     "data": {
      "text/plain": [
       "'[__repr__()] A, member is 7'"
      ]
     },
     "execution_count": 144,
     "metadata": {},
     "output_type": "execute_result"
    }
   ],
   "source": [
    "a.__repr__()"
   ]
  },
  {
   "cell_type": "code",
   "execution_count": 145,
   "metadata": {},
   "outputs": [
    {
     "data": {
      "text/plain": [
       "14.0"
      ]
     },
     "execution_count": 145,
     "metadata": {},
     "output_type": "execute_result"
    }
   ],
   "source": [
    "a._hidden"
   ]
  },
  {
   "cell_type": "code",
   "execution_count": 140,
   "metadata": {},
   "outputs": [
    {
     "name": "stdout",
     "output_type": "stream",
     "text": [
      "[__str__()] A, member is 7\n"
     ]
    }
   ],
   "source": [
    "print(a)"
   ]
  },
  {
   "cell_type": "markdown",
   "metadata": {},
   "source": [
    "람다 표현식"
   ]
  },
  {
   "cell_type": "code",
   "execution_count": 146,
   "metadata": {},
   "outputs": [],
   "source": [
    "f = lambda x: x+2"
   ]
  },
  {
   "cell_type": "code",
   "execution_count": 147,
   "metadata": {},
   "outputs": [
    {
     "data": {
      "text/plain": [
       "12"
      ]
     },
     "execution_count": 147,
     "metadata": {},
     "output_type": "execute_result"
    }
   ],
   "source": [
    "f(10)"
   ]
  },
  {
   "cell_type": "markdown",
   "metadata": {},
   "source": [
    "람다 표현식은 map과 reduce와 같이 함수를 인수로 받는 경우 유용하다."
   ]
  },
  {
   "cell_type": "code",
   "execution_count": 149,
   "metadata": {},
   "outputs": [
    {
     "data": {
      "text/plain": [
       "[0, 1, 2, 3, 4, 5, 6, 7, 8, 9]"
      ]
     },
     "execution_count": 149,
     "metadata": {},
     "output_type": "execute_result"
    }
   ],
   "source": [
    "l = range(10)\n",
    "l"
   ]
  },
  {
   "cell_type": "code",
   "execution_count": 151,
   "metadata": {},
   "outputs": [
    {
     "data": {
      "text/plain": [
       "[0.0, 1.0, 2.0, 3.0, 4.0, 5.0, 6.0, 7.0, 8.0, 9.0]"
      ]
     },
     "execution_count": 151,
     "metadata": {},
     "output_type": "execute_result"
    }
   ],
   "source": [
    "mapped = map(float, l)\n",
    "mapped"
   ]
  },
  {
   "cell_type": "code",
   "execution_count": 152,
   "metadata": {
    "scrolled": true
   },
   "outputs": [
    {
     "data": {
      "text/plain": [
       "[0.0, 2.0, 4.0, 6.0, 8.0, 10.0, 12.0, 14.0, 16.0, 18.0]"
      ]
     },
     "execution_count": 152,
     "metadata": {},
     "output_type": "execute_result"
    }
   ],
   "source": [
    "twice = map(lambda x: x*2.0, l)\n",
    "twice"
   ]
  },
  {
   "cell_type": "code",
   "execution_count": 156,
   "metadata": {},
   "outputs": [
    {
     "data": {
      "text/plain": [
       "[0, 1, 2, 3, 4, 5, 6, 7, 8, 9]"
      ]
     },
     "execution_count": 156,
     "metadata": {},
     "output_type": "execute_result"
    }
   ],
   "source": [
    "l = range(10)\n",
    "l"
   ]
  },
  {
   "cell_type": "code",
   "execution_count": 157,
   "metadata": {},
   "outputs": [
    {
     "data": {
      "text/plain": [
       "55"
      ]
     },
     "execution_count": 157,
     "metadata": {},
     "output_type": "execute_result"
    }
   ],
   "source": [
    "reduce(lambda x, y: x+y, l, 10)"
   ]
  },
  {
   "cell_type": "markdown",
   "metadata": {},
   "source": [
    "실습 거리계산"
   ]
  },
  {
   "cell_type": "code",
   "execution_count": 168,
   "metadata": {},
   "outputs": [],
   "source": [
    "A = (1,1, 1)\n",
    "B = (3,2)\n",
    "C = (5,7)\n",
    "X = (2,3, 1)"
   ]
  },
  {
   "cell_type": "code",
   "execution_count": 169,
   "metadata": {},
   "outputs": [],
   "source": [
    "from math import sqrt\n",
    "def distMeasure(p1, p2):\n",
    "    \"\"\"\n",
    "    distMeaure returns measured distance.\n",
    "    \n",
    "    parameters:\n",
    "        p1 (list)\n",
    "        p2 (list)\n",
    "    returns:\n",
    "        distance\n",
    "    \"\"\"\n",
    "    # distance = sqrt((p1[0] - p2[0])**2 + (p1[1] - p2[1])**2)\n",
    "    distance = 0.0\n",
    "    for p in zip(p1, p2):\n",
    "        distance += (p[0] - p[1])**2\n",
    "    return sqrt(distance)"
   ]
  },
  {
   "cell_type": "code",
   "execution_count": 170,
   "metadata": {},
   "outputs": [
    {
     "data": {
      "text/plain": [
       "2.23606797749979"
      ]
     },
     "execution_count": 170,
     "metadata": {},
     "output_type": "execute_result"
    }
   ],
   "source": [
    "distMeasure(A, X)"
   ]
  },
  {
   "cell_type": "code",
   "execution_count": 171,
   "metadata": {},
   "outputs": [],
   "source": [
    "d = {\"a\": 3, \"b\":2, \"c\":5}"
   ]
  },
  {
   "cell_type": "code",
   "execution_count": 172,
   "metadata": {},
   "outputs": [],
   "source": [
    "import operator"
   ]
  },
  {
   "cell_type": "code",
   "execution_count": 175,
   "metadata": {
    "scrolled": true
   },
   "outputs": [
    {
     "data": {
      "text/plain": [
       "[('c', 5), ('a', 3), ('b', 2)]"
      ]
     },
     "execution_count": 175,
     "metadata": {},
     "output_type": "execute_result"
    }
   ],
   "source": [
    "sorted(d.iteritems(), key=operator.itemgetter(1), reverse=True)"
   ]
  },
  {
   "cell_type": "code",
   "execution_count": 226,
   "metadata": {},
   "outputs": [],
   "source": [
    "def majorityCnt(d):\n",
    "    sortedlist = sorted(d.iteritems(), key=operator.itemgetter(1), reverse=True)\n",
    "    return sortedlist[0][0]"
   ]
  },
  {
   "cell_type": "code",
   "execution_count": 227,
   "metadata": {},
   "outputs": [
    {
     "data": {
      "text/plain": [
       "'c'"
      ]
     },
     "execution_count": 227,
     "metadata": {},
     "output_type": "execute_result"
    }
   ],
   "source": [
    "majorityCnt(d)"
   ]
  },
  {
   "cell_type": "code",
   "execution_count": 228,
   "metadata": {},
   "outputs": [],
   "source": [
    "def WordCount(filename):\n",
    "    with open(filename) as fo:\n",
    "        txt = fo.readlines()\n",
    "    wcount = {}\n",
    "    for l in txt:\n",
    "        words = l.strip().split(\" \")\n",
    "        for w in words:\n",
    "            wcount[w] = wcount.get(w, 0) + 1\n",
    "    return wcount"
   ]
  },
  {
   "cell_type": "code",
   "execution_count": 230,
   "metadata": {},
   "outputs": [
    {
     "data": {
      "text/plain": [
       "{'': 46,\n",
       " '\"For': 1,\n",
       " '\"Life,': 1,\n",
       " '\"We': 1,\n",
       " '\"When': 1,\n",
       " '\"and': 1,\n",
       " '\"insufficient': 1,\n",
       " '\"interposition\"': 1,\n",
       " '\"justice': 1,\n",
       " '\"nullification\"': 1,\n",
       " '\"unalienable': 1,\n",
       " \"'tis\": 1,\n",
       " '*We': 1,\n",
       " '--': 3,\n",
       " 'Again': 1,\n",
       " 'Alabama': 1,\n",
       " 'Alabama,': 2,\n",
       " 'Alleghenies': 1,\n",
       " 'Almighty,': 1,\n",
       " 'America': 5,\n",
       " 'American': 3,\n",
       " 'American,': 1,\n",
       " 'And': 12,\n",
       " 'But': 4,\n",
       " 'California.': 1,\n",
       " 'Carolina,': 1,\n",
       " 'Catholics,': 1,\n",
       " 'Colorado.': 1,\n",
       " 'Constitution': 1,\n",
       " 'Continue': 1,\n",
       " 'Declaration': 1,\n",
       " 'Emancipation': 1,\n",
       " 'Five': 1,\n",
       " 'Free': 2,\n",
       " 'From': 2,\n",
       " 'Gentiles,': 1,\n",
       " 'Georgia,': 2,\n",
       " 'Georgia.': 1,\n",
       " 'Go': 1,\n",
       " 'God': 1,\n",
       " \"God's\": 3,\n",
       " 'Hampshire.': 1,\n",
       " 'Happiness.\"': 1,\n",
       " 'I': 15,\n",
       " 'In': 2,\n",
       " 'Independence,': 1,\n",
       " 'Instead': 1,\n",
       " 'It': 4,\n",
       " 'Jews': 1,\n",
       " 'Land': 1,\n",
       " 'Let': 9,\n",
       " 'Liberty': 1,\n",
       " 'Lookout': 1,\n",
       " 'Lord': 1,\n",
       " 'Louisiana,': 1,\n",
       " 'Mississippi': 1,\n",
       " 'Mississippi,': 2,\n",
       " 'Mississippi.': 1,\n",
       " 'Mountain': 2,\n",
       " 'My': 1,\n",
       " 'Negro': 13,\n",
       " \"Negro's\": 1,\n",
       " 'New': 3,\n",
       " 'Nineteen': 1,\n",
       " 'No,': 1,\n",
       " 'Now': 4,\n",
       " 'Now.': 1,\n",
       " 'One': 3,\n",
       " 'Only.\"*': 1,\n",
       " 'Pennsylvania.': 1,\n",
       " \"Pilgrim's\": 1,\n",
       " 'Proclamation.': 1,\n",
       " 'Protestants': 1,\n",
       " 'Rights\"': 1,\n",
       " 'Rockies': 1,\n",
       " 'Some': 1,\n",
       " 'South': 2,\n",
       " 'Stone': 1,\n",
       " 'Tennessee.': 1,\n",
       " 'Thank': 1,\n",
       " 'The': 2,\n",
       " 'There': 1,\n",
       " 'This': 5,\n",
       " 'We': 10,\n",
       " 'When': 1,\n",
       " 'Whites': 1,\n",
       " 'With': 3,\n",
       " 'York': 1,\n",
       " 'York.': 1,\n",
       " 'You': 1,\n",
       " 'a': 37,\n",
       " 'able': 8,\n",
       " 'again,': 1,\n",
       " 'ago,': 1,\n",
       " 'ahead.': 1,\n",
       " 'all': 7,\n",
       " 'allow': 2,\n",
       " 'alone.': 1,\n",
       " 'also': 1,\n",
       " 'always': 1,\n",
       " 'am': 2,\n",
       " 'an': 4,\n",
       " 'and': 41,\n",
       " 'architects': 1,\n",
       " 'are': 8,\n",
       " 'areas': 1,\n",
       " 'as': 20,\n",
       " 'asking': 1,\n",
       " 'at': 4,\n",
       " 'autumn': 1,\n",
       " 'awakening': 1,\n",
       " 'back': 8,\n",
       " 'back.': 1,\n",
       " 'bad': 1,\n",
       " 'bank': 1,\n",
       " 'bankrupt.': 1,\n",
       " 'basic': 1,\n",
       " 'battered': 1,\n",
       " 'be': 33,\n",
       " 'beacon': 1,\n",
       " 'beautiful': 1,\n",
       " 'become': 1,\n",
       " 'been': 2,\n",
       " 'beginning.': 1,\n",
       " 'believe': 2,\n",
       " 'believes': 1,\n",
       " 'bitterness': 1,\n",
       " 'black': 4,\n",
       " 'blow': 1,\n",
       " 'bodies,': 1,\n",
       " 'bound': 1,\n",
       " 'boys': 2,\n",
       " 'bright': 1,\n",
       " 'brotherhood.': 3,\n",
       " 'brothers,': 1,\n",
       " 'brothers.': 1,\n",
       " 'brutality.': 2,\n",
       " 'business': 1,\n",
       " 'but': 2,\n",
       " 'by': 8,\n",
       " 'came': 2,\n",
       " 'can': 4,\n",
       " 'cannot': 6,\n",
       " 'capital': 1,\n",
       " 'captivity.': 1,\n",
       " 'cash': 2,\n",
       " 'cells.': 1,\n",
       " 'chains': 1,\n",
       " 'changed.': 1,\n",
       " 'character.': 1,\n",
       " 'check': 2,\n",
       " 'check,': 2,\n",
       " 'check.': 1,\n",
       " 'children': 3,\n",
       " 'children,': 1,\n",
       " 'children.': 1,\n",
       " 'cities,': 1,\n",
       " 'cities.': 1,\n",
       " 'citizens': 1,\n",
       " 'citizenship': 1,\n",
       " 'city,': 1,\n",
       " 'civil': 1,\n",
       " 'color': 2,\n",
       " 'come': 10,\n",
       " 'community': 1,\n",
       " 'concerned.': 1,\n",
       " 'condition.': 1,\n",
       " 'conduct': 1,\n",
       " 'content': 2,\n",
       " 'continue': 1,\n",
       " 'cooling': 1,\n",
       " 'corners': 1,\n",
       " 'country': 1,\n",
       " 'created': 1,\n",
       " 'creative': 2,\n",
       " 'creed:': 1,\n",
       " 'crippled': 1,\n",
       " 'crooked': 1,\n",
       " 'cup': 1,\n",
       " 'curvaceous': 1,\n",
       " 'dark': 1,\n",
       " 'day': 10,\n",
       " 'day,': 1,\n",
       " 'day.': 1,\n",
       " 'daybreak': 1,\n",
       " 'decree': 1,\n",
       " 'deeds.': 1,\n",
       " 'deeply': 1,\n",
       " 'defaulted': 1,\n",
       " 'degenerate': 1,\n",
       " 'demand': 1,\n",
       " 'democracy.': 1,\n",
       " 'demonstration': 1,\n",
       " 'desolate': 1,\n",
       " 'despair': 1,\n",
       " 'despair,': 1,\n",
       " 'destiny': 1,\n",
       " 'destiny.': 1,\n",
       " 'devotees': 1,\n",
       " 'died,': 1,\n",
       " 'difficulties': 1,\n",
       " 'dignity': 2,\n",
       " 'discipline.': 1,\n",
       " 'discontent': 1,\n",
       " 'discords': 1,\n",
       " 'discrimination.': 1,\n",
       " 'distrust': 1,\n",
       " 'down': 4,\n",
       " 'dramatize': 1,\n",
       " 'dream': 9,\n",
       " 'dream.': 2,\n",
       " 'drinking': 1,\n",
       " 'dripping': 1,\n",
       " 'drug': 1,\n",
       " 'emerges.': 1,\n",
       " 'end': 1,\n",
       " 'end,': 1,\n",
       " 'engage': 1,\n",
       " 'engulfed': 1,\n",
       " 'equal.\"': 1,\n",
       " 'equality.': 1,\n",
       " 'even': 2,\n",
       " 'every': 10,\n",
       " 'evidenced': 1,\n",
       " 'exalted,': 1,\n",
       " 'exile': 1,\n",
       " 'face': 1,\n",
       " 'faith': 2,\n",
       " 'faith,': 3,\n",
       " 'fall': 1,\n",
       " 'fatal': 1,\n",
       " 'fathers': 1,\n",
       " 'fatigue': 1,\n",
       " 'fierce': 1,\n",
       " 'finds': 1,\n",
       " 'flames': 1,\n",
       " 'flesh': 1,\n",
       " 'for': 8,\n",
       " 'force': 1,\n",
       " 'force.': 1,\n",
       " 'forever': 1,\n",
       " 'former': 2,\n",
       " 'foundations': 1,\n",
       " 'four': 1,\n",
       " 'free': 2,\n",
       " 'free.': 1,\n",
       " 'freedom': 19,\n",
       " 'freedom.': 1,\n",
       " 'fresh': 1,\n",
       " 'friends.': 1,\n",
       " 'from': 16,\n",
       " 'funds': 1,\n",
       " 'funds.\"': 1,\n",
       " 'gain': 1,\n",
       " 'gaining': 1,\n",
       " 'ghetto': 1,\n",
       " 'ghettos': 1,\n",
       " 'girls': 2,\n",
       " 'give': 1,\n",
       " 'given': 1,\n",
       " 'glory': 1,\n",
       " 'go': 8,\n",
       " 'governor': 1,\n",
       " 'gradualism.': 1,\n",
       " 'granted': 1,\n",
       " 'great': 5,\n",
       " 'greatest': 1,\n",
       " 'guaranteed': 1,\n",
       " 'guilty': 1,\n",
       " 'had': 1,\n",
       " 'hallowed': 1,\n",
       " 'hamlet,': 1,\n",
       " 'hands': 2,\n",
       " 'happens,': 1,\n",
       " 'happy': 1,\n",
       " 'has': 5,\n",
       " 'hatred.': 1,\n",
       " 'have': 17,\n",
       " 'having': 1,\n",
       " 'he': 1,\n",
       " 'heat': 2,\n",
       " 'heavy': 1,\n",
       " 'heightening': 1,\n",
       " 'heights': 1,\n",
       " 'heir.': 1,\n",
       " 'her': 1,\n",
       " 'here': 3,\n",
       " 'hew': 1,\n",
       " 'high': 1,\n",
       " 'highways': 1,\n",
       " 'hill': 2,\n",
       " 'hills': 1,\n",
       " 'hilltops': 1,\n",
       " 'himself': 1,\n",
       " 'his': 3,\n",
       " 'history': 2,\n",
       " 'hold': 1,\n",
       " 'honoring': 1,\n",
       " 'hope': 2,\n",
       " 'hope,': 1,\n",
       " 'hope.': 1,\n",
       " 'horrors': 1,\n",
       " 'hotels': 1,\n",
       " 'hundred': 4,\n",
       " 'if': 2,\n",
       " 'in': 20,\n",
       " 'inextricably': 1,\n",
       " 'injustice': 1,\n",
       " 'injustice,': 1,\n",
       " 'injustice.': 1,\n",
       " 'insofar': 1,\n",
       " 'insufficient': 1,\n",
       " 'into': 4,\n",
       " 'invigorating': 1,\n",
       " 'is': 23,\n",
       " 'island': 1,\n",
       " 'it': 2,\n",
       " 'its': 3,\n",
       " 'jail': 2,\n",
       " 'jangling': 1,\n",
       " 'join': 3,\n",
       " 'joyous': 1,\n",
       " 'judged': 1,\n",
       " 'justice': 3,\n",
       " 'justice.': 3,\n",
       " 'justice:': 1,\n",
       " 'knowing': 2,\n",
       " 'land': 2,\n",
       " 'land.': 1,\n",
       " 'languished': 1,\n",
       " 'larger': 1,\n",
       " 'last!': 3,\n",
       " 'later,': 4,\n",
       " 'lead': 1,\n",
       " 'leads': 1,\n",
       " 'left': 1,\n",
       " 'legitimate': 1,\n",
       " 'let': 4,\n",
       " 'liberty,': 1,\n",
       " 'life': 1,\n",
       " 'lift': 1,\n",
       " 'light': 1,\n",
       " 'like': 2,\n",
       " 'lips': 1,\n",
       " 'little': 3,\n",
       " 'live': 2,\n",
       " 'lives': 1,\n",
       " 'lodging': 1,\n",
       " 'lonely': 1,\n",
       " 'long': 6,\n",
       " 'low,': 1,\n",
       " 'luxury': 1,\n",
       " 'made': 3,\n",
       " 'magnificent': 1,\n",
       " 'majestic': 1,\n",
       " 'make': 3,\n",
       " 'manacles': 1,\n",
       " 'many': 1,\n",
       " 'march': 1,\n",
       " 'marked': 1,\n",
       " 'marvelous': 1,\n",
       " 'material': 1,\n",
       " 'meaning': 1,\n",
       " 'meaning:': 1,\n",
       " 'meeting': 1,\n",
       " 'men': 3,\n",
       " 'men,': 3,\n",
       " 'midst': 1,\n",
       " 'mighty': 2,\n",
       " 'militancy': 1,\n",
       " 'millions': 1,\n",
       " 'mobility': 1,\n",
       " 'molehill': 1,\n",
       " 'moment.': 1,\n",
       " 'momentous': 1,\n",
       " 'motels': 1,\n",
       " 'mountain': 2,\n",
       " 'mountains': 1,\n",
       " 'mountainside,': 2,\n",
       " 'must': 8,\n",
       " 'my': 4,\n",
       " 'narrow': 1,\n",
       " 'nation': 7,\n",
       " \"nation's\": 1,\n",
       " 'nation,': 1,\n",
       " 'nation.': 2,\n",
       " 'needed': 1,\n",
       " \"negro's\": 1,\n",
       " 'neither': 1,\n",
       " 'never': 3,\n",
       " 'new': 2,\n",
       " 'night': 1,\n",
       " 'no': 1,\n",
       " 'no,': 1,\n",
       " 'nor': 1,\n",
       " 'northern': 1,\n",
       " 'not': 13,\n",
       " 'note': 2,\n",
       " 'note,': 1,\n",
       " 'nothing': 1,\n",
       " 'now': 1,\n",
       " 'oasis': 1,\n",
       " 'obligation,': 1,\n",
       " 'obvious': 1,\n",
       " 'ocean': 1,\n",
       " 'of': 99,\n",
       " 'off': 2,\n",
       " 'old': 1,\n",
       " 'on': 5,\n",
       " 'one': 9,\n",
       " 'one.': 1,\n",
       " 'only': 1,\n",
       " 'opportunity': 1,\n",
       " 'oppression,': 1,\n",
       " 'or': 1,\n",
       " 'our': 17,\n",
       " 'out': 3,\n",
       " 'overlook': 1,\n",
       " 'own': 1,\n",
       " 'owners': 1,\n",
       " 'palace': 1,\n",
       " 'pass': 1,\n",
       " 'path': 1,\n",
       " 'people': 1,\n",
       " 'people,': 2,\n",
       " 'persecution': 1,\n",
       " 'physical': 2,\n",
       " 'place,': 1,\n",
       " 'places': 2,\n",
       " 'plain,': 1,\n",
       " 'plane': 1,\n",
       " 'pledge': 1,\n",
       " 'police': 2,\n",
       " 'poverty': 1,\n",
       " 'pray': 1,\n",
       " 'presence': 1,\n",
       " 'pride,': 1,\n",
       " 'process': 1,\n",
       " 'prodigious': 1,\n",
       " 'promise': 1,\n",
       " 'promises': 1,\n",
       " 'promissory': 2,\n",
       " 'prosperity.': 1,\n",
       " 'protest': 1,\n",
       " 'pursuit': 1,\n",
       " 'quest': 2,\n",
       " 'quicksands': 1,\n",
       " 'racial': 2,\n",
       " 'racists,': 1,\n",
       " 'real': 1,\n",
       " 'reality': 1,\n",
       " 'realize': 2,\n",
       " 'red': 1,\n",
       " 'redemptive.': 1,\n",
       " 'refuse': 2,\n",
       " 'remind': 1,\n",
       " 'republic': 1,\n",
       " 'rest': 1,\n",
       " 'returns': 1,\n",
       " 'revealed': 1,\n",
       " 'revolt': 1,\n",
       " 'riches': 1,\n",
       " 'right': 1,\n",
       " 'righteousness': 1,\n",
       " 'rightful': 1,\n",
       " 'rights,': 1,\n",
       " 'rights.': 1,\n",
       " 'ring': 9,\n",
       " 'ring!': 1,\n",
       " 'ring,': 1,\n",
       " 'ring.': 1,\n",
       " 'rise': 3,\n",
       " 'robbed': 1,\n",
       " 'rock': 1,\n",
       " 'rolls': 1,\n",
       " 'rooted': 1,\n",
       " 'rough': 1,\n",
       " 'rude': 1,\n",
       " 'sacred': 1,\n",
       " 'sadly': 1,\n",
       " 'satisfied': 6,\n",
       " 'satisfied,': 1,\n",
       " 'satisfied?\"': 1,\n",
       " 'satisfy': 1,\n",
       " 'say': 2,\n",
       " 'score': 1,\n",
       " 'seared': 1,\n",
       " 'security': 1,\n",
       " 'see': 1,\n",
       " 'seek': 1,\n",
       " 'segregation': 2,\n",
       " 'self-evident,': 1,\n",
       " 'self-hood': 1,\n",
       " 'sense': 1,\n",
       " 'shadow': 1,\n",
       " 'shake': 1,\n",
       " 'shall': 5,\n",
       " 'shameful': 1,\n",
       " 'signed': 1,\n",
       " 'signing': 1,\n",
       " 'signs': 1,\n",
       " 'sing': 2,\n",
       " 'sing.': 1,\n",
       " 'sisters': 1,\n",
       " 'sit': 1,\n",
       " 'situation': 1,\n",
       " 'sixty-three': 1,\n",
       " 'skin': 1,\n",
       " 'slave': 1,\n",
       " 'slaves': 2,\n",
       " 'slopes': 1,\n",
       " 'slums': 1,\n",
       " 'smaller': 1,\n",
       " 'snow-capped': 1,\n",
       " 'so': 3,\n",
       " 'so,': 1,\n",
       " 'society': 1,\n",
       " 'solid': 1,\n",
       " 'some': 2,\n",
       " 'somehow': 1,\n",
       " 'something': 1,\n",
       " 'sons': 2,\n",
       " 'soul': 1,\n",
       " 'speed': 1,\n",
       " 'spiritual:': 1,\n",
       " 'spot': 1,\n",
       " 'staggered': 1,\n",
       " 'stand': 3,\n",
       " 'state': 3,\n",
       " 'stating:': 1,\n",
       " 'steam': 1,\n",
       " 'still': 4,\n",
       " 'stone': 1,\n",
       " 'storms': 1,\n",
       " 'straight;': 1,\n",
       " 'stream.\"1': 1,\n",
       " 'stripped': 1,\n",
       " 'struggle': 2,\n",
       " 'suffering': 1,\n",
       " 'suffering.': 1,\n",
       " 'summer': 1,\n",
       " 'sunlit': 1,\n",
       " 'sweet': 1,\n",
       " 'sweltering': 3,\n",
       " 'symbolic': 1,\n",
       " 'symphony': 1,\n",
       " 'table': 1,\n",
       " 'take': 1,\n",
       " 'that': 23,\n",
       " 'that:': 1,\n",
       " 'the': 101,\n",
       " 'thee': 1,\n",
       " 'thee,': 1,\n",
       " 'their': 8,\n",
       " 'there': 5,\n",
       " 'these': 1,\n",
       " 'they': 3,\n",
       " 'thirst': 1,\n",
       " 'this': 15,\n",
       " 'those': 2,\n",
       " 'though': 1,\n",
       " 'threshold': 1,\n",
       " 'tied': 1,\n",
       " 'time': 5,\n",
       " 'to': 59,\n",
       " 'today': 4,\n",
       " 'today!': 2,\n",
       " 'today,': 3,\n",
       " 'together': 1,\n",
       " 'together,': 5,\n",
       " 'together.\"2': 1,\n",
       " 'tomorrow,': 1,\n",
       " 'tranquility': 1,\n",
       " 'tranquilizing': 1,\n",
       " 'transform': 1,\n",
       " 'transformed': 1,\n",
       " 'travel,': 1,\n",
       " 'trials': 1,\n",
       " 'tribulations.': 1,\n",
       " 'true': 1,\n",
       " 'true.': 1,\n",
       " 'truths': 1,\n",
       " 'turn': 1,\n",
       " 'unearned': 1,\n",
       " 'unmindful': 1,\n",
       " 'unspeakable': 1,\n",
       " 'until': 4,\n",
       " 'up': 4,\n",
       " 'upon': 1,\n",
       " 'urgency': 2,\n",
       " 'us': 4,\n",
       " 'usual.': 1,\n",
       " 'valley': 3,\n",
       " 'vast': 1,\n",
       " 'vaults': 1,\n",
       " 'veterans': 1,\n",
       " 'vicious': 1,\n",
       " 'victim': 1,\n",
       " 'village': 1,\n",
       " 'violence.': 1,\n",
       " 'vote': 1,\n",
       " 'vote.': 1,\n",
       " 'walk': 1,\n",
       " 'walk,': 1,\n",
       " 'wallow': 1,\n",
       " 'warm': 1,\n",
       " 'was': 2,\n",
       " 'waters,': 1,\n",
       " 'we': 18,\n",
       " \"we've\": 3,\n",
       " 'well': 1,\n",
       " 'were': 1,\n",
       " 'what': 1,\n",
       " 'when': 5,\n",
       " 'where': 3,\n",
       " 'which': 5,\n",
       " 'whirlwinds': 1,\n",
       " 'white': 6,\n",
       " 'who': 4,\n",
       " 'whose': 1,\n",
       " 'will': 27,\n",
       " 'winds': 1,\n",
       " 'with': 12,\n",
       " 'with.': 1,\n",
       " 'withering': 1,\n",
       " 'words': 3,\n",
       " 'work': 2,\n",
       " 'would': 2,\n",
       " 'wrongful': 1,\n",
       " 'wrote': 1,\n",
       " 'years': 5,\n",
       " 'yes,': 1,\n",
       " 'you': 7,\n",
       " 'your': 1}"
      ]
     },
     "execution_count": 230,
     "metadata": {},
     "output_type": "execute_result"
    }
   ],
   "source": [
    "wc = WordCount('ihaveadream.txt')\n",
    "wc"
   ]
  },
  {
   "cell_type": "code",
   "execution_count": 231,
   "metadata": {},
   "outputs": [],
   "source": [
    "def resultToFile(wcount, mfw, outfilename):\n",
    "    with open(outfilename, 'w') as fo:\n",
    "        fo.write('====== RESULT ======\\n')\n",
    "        fo.write(str(wcount)+'\\n')\n",
    "        fo.write('====================\\n')\n",
    "        fo.write(str(mfw)+'\\n')\n",
    "        "
   ]
  },
  {
   "cell_type": "code",
   "execution_count": 232,
   "metadata": {},
   "outputs": [],
   "source": [
    "result = resultToFile(wcount, majorityCnt(wcount), 'result.txt')"
   ]
  },
  {
   "cell_type": "code",
   "execution_count": 236,
   "metadata": {
    "collapsed": true
   },
   "outputs": [
    {
     "data": {
      "text/plain": [
       "{'': 46,\n",
       " '\"For': 1,\n",
       " '\"Life,': 1,\n",
       " '\"We': 1,\n",
       " '\"When': 1,\n",
       " '\"and': 1,\n",
       " '\"insufficient': 1,\n",
       " '\"interposition\"': 1,\n",
       " '\"justice': 1,\n",
       " '\"nullification\"': 1,\n",
       " '\"unalienable': 1,\n",
       " \"'tis\": 1,\n",
       " '*We': 1,\n",
       " '--': 3,\n",
       " 'Again': 1,\n",
       " 'Alabama': 1,\n",
       " 'Alabama,': 2,\n",
       " 'Alleghenies': 1,\n",
       " 'Almighty,': 1,\n",
       " 'America': 5,\n",
       " 'American': 3,\n",
       " 'American,': 1,\n",
       " 'And': 12,\n",
       " 'But': 4,\n",
       " 'California.': 1,\n",
       " 'Carolina,': 1,\n",
       " 'Catholics,': 1,\n",
       " 'Colorado.': 1,\n",
       " 'Constitution': 1,\n",
       " 'Continue': 1,\n",
       " 'Declaration': 1,\n",
       " 'Emancipation': 1,\n",
       " 'Five': 1,\n",
       " 'Free': 2,\n",
       " 'From': 2,\n",
       " 'Gentiles,': 1,\n",
       " 'Georgia,': 2,\n",
       " 'Georgia.': 1,\n",
       " 'Go': 1,\n",
       " 'God': 1,\n",
       " \"God's\": 3,\n",
       " 'Hampshire.': 1,\n",
       " 'Happiness.\"': 1,\n",
       " 'I': 15,\n",
       " 'In': 2,\n",
       " 'Independence,': 1,\n",
       " 'Instead': 1,\n",
       " 'It': 4,\n",
       " 'Jews': 1,\n",
       " 'Land': 1,\n",
       " 'Let': 9,\n",
       " 'Liberty': 1,\n",
       " 'Lookout': 1,\n",
       " 'Lord': 1,\n",
       " 'Louisiana,': 1,\n",
       " 'Mississippi': 1,\n",
       " 'Mississippi,': 2,\n",
       " 'Mississippi.': 1,\n",
       " 'Mountain': 2,\n",
       " 'My': 1,\n",
       " 'Negro': 13,\n",
       " \"Negro's\": 1,\n",
       " 'New': 3,\n",
       " 'Nineteen': 1,\n",
       " 'No,': 1,\n",
       " 'Now': 4,\n",
       " 'Now.': 1,\n",
       " 'One': 3,\n",
       " 'Only.\"*': 1,\n",
       " 'Pennsylvania.': 1,\n",
       " \"Pilgrim's\": 1,\n",
       " 'Proclamation.': 1,\n",
       " 'Protestants': 1,\n",
       " 'Rights\"': 1,\n",
       " 'Rockies': 1,\n",
       " 'Some': 1,\n",
       " 'South': 2,\n",
       " 'Stone': 1,\n",
       " 'Tennessee.': 1,\n",
       " 'Thank': 1,\n",
       " 'The': 2,\n",
       " 'There': 1,\n",
       " 'This': 5,\n",
       " 'We': 10,\n",
       " 'When': 1,\n",
       " 'Whites': 1,\n",
       " 'With': 3,\n",
       " 'York': 1,\n",
       " 'York.': 1,\n",
       " 'You': 1,\n",
       " 'a': 37,\n",
       " 'able': 8,\n",
       " 'again,': 1,\n",
       " 'ago,': 1,\n",
       " 'ahead.': 1,\n",
       " 'all': 7,\n",
       " 'allow': 2,\n",
       " 'alone.': 1,\n",
       " 'also': 1,\n",
       " 'always': 1,\n",
       " 'am': 2,\n",
       " 'an': 4,\n",
       " 'and': 41,\n",
       " 'architects': 1,\n",
       " 'are': 8,\n",
       " 'areas': 1,\n",
       " 'as': 20,\n",
       " 'asking': 1,\n",
       " 'at': 4,\n",
       " 'autumn': 1,\n",
       " 'awakening': 1,\n",
       " 'back': 8,\n",
       " 'back.': 1,\n",
       " 'bad': 1,\n",
       " 'bank': 1,\n",
       " 'bankrupt.': 1,\n",
       " 'basic': 1,\n",
       " 'battered': 1,\n",
       " 'be': 33,\n",
       " 'beacon': 1,\n",
       " 'beautiful': 1,\n",
       " 'become': 1,\n",
       " 'been': 2,\n",
       " 'beginning.': 1,\n",
       " 'believe': 2,\n",
       " 'believes': 1,\n",
       " 'bitterness': 1,\n",
       " 'black': 4,\n",
       " 'blow': 1,\n",
       " 'bodies,': 1,\n",
       " 'bound': 1,\n",
       " 'boys': 2,\n",
       " 'bright': 1,\n",
       " 'brotherhood.': 3,\n",
       " 'brothers,': 1,\n",
       " 'brothers.': 1,\n",
       " 'brutality.': 2,\n",
       " 'business': 1,\n",
       " 'but': 2,\n",
       " 'by': 8,\n",
       " 'came': 2,\n",
       " 'can': 4,\n",
       " 'cannot': 6,\n",
       " 'capital': 1,\n",
       " 'captivity.': 1,\n",
       " 'cash': 2,\n",
       " 'cells.': 1,\n",
       " 'chains': 1,\n",
       " 'changed.': 1,\n",
       " 'character.': 1,\n",
       " 'check': 2,\n",
       " 'check,': 2,\n",
       " 'check.': 1,\n",
       " 'children': 3,\n",
       " 'children,': 1,\n",
       " 'children.': 1,\n",
       " 'cities,': 1,\n",
       " 'cities.': 1,\n",
       " 'citizens': 1,\n",
       " 'citizenship': 1,\n",
       " 'city,': 1,\n",
       " 'civil': 1,\n",
       " 'color': 2,\n",
       " 'come': 10,\n",
       " 'community': 1,\n",
       " 'concerned.': 1,\n",
       " 'condition.': 1,\n",
       " 'conduct': 1,\n",
       " 'content': 2,\n",
       " 'continue': 1,\n",
       " 'cooling': 1,\n",
       " 'corners': 1,\n",
       " 'country': 1,\n",
       " 'created': 1,\n",
       " 'creative': 2,\n",
       " 'creed:': 1,\n",
       " 'crippled': 1,\n",
       " 'crooked': 1,\n",
       " 'cup': 1,\n",
       " 'curvaceous': 1,\n",
       " 'dark': 1,\n",
       " 'day': 10,\n",
       " 'day,': 1,\n",
       " 'day.': 1,\n",
       " 'daybreak': 1,\n",
       " 'decree': 1,\n",
       " 'deeds.': 1,\n",
       " 'deeply': 1,\n",
       " 'defaulted': 1,\n",
       " 'degenerate': 1,\n",
       " 'demand': 1,\n",
       " 'democracy.': 1,\n",
       " 'demonstration': 1,\n",
       " 'desolate': 1,\n",
       " 'despair': 1,\n",
       " 'despair,': 1,\n",
       " 'destiny': 1,\n",
       " 'destiny.': 1,\n",
       " 'devotees': 1,\n",
       " 'died,': 1,\n",
       " 'difficulties': 1,\n",
       " 'dignity': 2,\n",
       " 'discipline.': 1,\n",
       " 'discontent': 1,\n",
       " 'discords': 1,\n",
       " 'discrimination.': 1,\n",
       " 'distrust': 1,\n",
       " 'down': 4,\n",
       " 'dramatize': 1,\n",
       " 'dream': 9,\n",
       " 'dream.': 2,\n",
       " 'drinking': 1,\n",
       " 'dripping': 1,\n",
       " 'drug': 1,\n",
       " 'emerges.': 1,\n",
       " 'end': 1,\n",
       " 'end,': 1,\n",
       " 'engage': 1,\n",
       " 'engulfed': 1,\n",
       " 'equal.\"': 1,\n",
       " 'equality.': 1,\n",
       " 'even': 2,\n",
       " 'every': 10,\n",
       " 'evidenced': 1,\n",
       " 'exalted,': 1,\n",
       " 'exile': 1,\n",
       " 'face': 1,\n",
       " 'faith': 2,\n",
       " 'faith,': 3,\n",
       " 'fall': 1,\n",
       " 'fatal': 1,\n",
       " 'fathers': 1,\n",
       " 'fatigue': 1,\n",
       " 'fierce': 1,\n",
       " 'finds': 1,\n",
       " 'flames': 1,\n",
       " 'flesh': 1,\n",
       " 'for': 8,\n",
       " 'force': 1,\n",
       " 'force.': 1,\n",
       " 'forever': 1,\n",
       " 'former': 2,\n",
       " 'foundations': 1,\n",
       " 'four': 1,\n",
       " 'free': 2,\n",
       " 'free.': 1,\n",
       " 'freedom': 19,\n",
       " 'freedom.': 1,\n",
       " 'fresh': 1,\n",
       " 'friends.': 1,\n",
       " 'from': 16,\n",
       " 'funds': 1,\n",
       " 'funds.\"': 1,\n",
       " 'gain': 1,\n",
       " 'gaining': 1,\n",
       " 'ghetto': 1,\n",
       " 'ghettos': 1,\n",
       " 'girls': 2,\n",
       " 'give': 1,\n",
       " 'given': 1,\n",
       " 'glory': 1,\n",
       " 'go': 8,\n",
       " 'governor': 1,\n",
       " 'gradualism.': 1,\n",
       " 'granted': 1,\n",
       " 'great': 5,\n",
       " 'greatest': 1,\n",
       " 'guaranteed': 1,\n",
       " 'guilty': 1,\n",
       " 'had': 1,\n",
       " 'hallowed': 1,\n",
       " 'hamlet,': 1,\n",
       " 'hands': 2,\n",
       " 'happens,': 1,\n",
       " 'happy': 1,\n",
       " 'has': 5,\n",
       " 'hatred.': 1,\n",
       " 'have': 17,\n",
       " 'having': 1,\n",
       " 'he': 1,\n",
       " 'heat': 2,\n",
       " 'heavy': 1,\n",
       " 'heightening': 1,\n",
       " 'heights': 1,\n",
       " 'heir.': 1,\n",
       " 'her': 1,\n",
       " 'here': 3,\n",
       " 'hew': 1,\n",
       " 'high': 1,\n",
       " 'highways': 1,\n",
       " 'hill': 2,\n",
       " 'hills': 1,\n",
       " 'hilltops': 1,\n",
       " 'himself': 1,\n",
       " 'his': 3,\n",
       " 'history': 2,\n",
       " 'hold': 1,\n",
       " 'honoring': 1,\n",
       " 'hope': 2,\n",
       " 'hope,': 1,\n",
       " 'hope.': 1,\n",
       " 'horrors': 1,\n",
       " 'hotels': 1,\n",
       " 'hundred': 4,\n",
       " 'if': 2,\n",
       " 'in': 20,\n",
       " 'inextricably': 1,\n",
       " 'injustice': 1,\n",
       " 'injustice,': 1,\n",
       " 'injustice.': 1,\n",
       " 'insofar': 1,\n",
       " 'insufficient': 1,\n",
       " 'into': 4,\n",
       " 'invigorating': 1,\n",
       " 'is': 23,\n",
       " 'island': 1,\n",
       " 'it': 2,\n",
       " 'its': 3,\n",
       " 'jail': 2,\n",
       " 'jangling': 1,\n",
       " 'join': 3,\n",
       " 'joyous': 1,\n",
       " 'judged': 1,\n",
       " 'justice': 3,\n",
       " 'justice.': 3,\n",
       " 'justice:': 1,\n",
       " 'knowing': 2,\n",
       " 'land': 2,\n",
       " 'land.': 1,\n",
       " 'languished': 1,\n",
       " 'larger': 1,\n",
       " 'last!': 3,\n",
       " 'later,': 4,\n",
       " 'lead': 1,\n",
       " 'leads': 1,\n",
       " 'left': 1,\n",
       " 'legitimate': 1,\n",
       " 'let': 4,\n",
       " 'liberty,': 1,\n",
       " 'life': 1,\n",
       " 'lift': 1,\n",
       " 'light': 1,\n",
       " 'like': 2,\n",
       " 'lips': 1,\n",
       " 'little': 3,\n",
       " 'live': 2,\n",
       " 'lives': 1,\n",
       " 'lodging': 1,\n",
       " 'lonely': 1,\n",
       " 'long': 6,\n",
       " 'low,': 1,\n",
       " 'luxury': 1,\n",
       " 'made': 3,\n",
       " 'magnificent': 1,\n",
       " 'majestic': 1,\n",
       " 'make': 3,\n",
       " 'manacles': 1,\n",
       " 'many': 1,\n",
       " 'march': 1,\n",
       " 'marked': 1,\n",
       " 'marvelous': 1,\n",
       " 'material': 1,\n",
       " 'meaning': 1,\n",
       " 'meaning:': 1,\n",
       " 'meeting': 1,\n",
       " 'men': 3,\n",
       " 'men,': 3,\n",
       " 'midst': 1,\n",
       " 'mighty': 2,\n",
       " 'militancy': 1,\n",
       " 'millions': 1,\n",
       " 'mobility': 1,\n",
       " 'molehill': 1,\n",
       " 'moment.': 1,\n",
       " 'momentous': 1,\n",
       " 'motels': 1,\n",
       " 'mountain': 2,\n",
       " 'mountains': 1,\n",
       " 'mountainside,': 2,\n",
       " 'must': 8,\n",
       " 'my': 4,\n",
       " 'narrow': 1,\n",
       " 'nation': 7,\n",
       " \"nation's\": 1,\n",
       " 'nation,': 1,\n",
       " 'nation.': 2,\n",
       " 'needed': 1,\n",
       " \"negro's\": 1,\n",
       " 'neither': 1,\n",
       " 'never': 3,\n",
       " 'new': 2,\n",
       " 'night': 1,\n",
       " 'no': 1,\n",
       " 'no,': 1,\n",
       " 'nor': 1,\n",
       " 'northern': 1,\n",
       " 'not': 13,\n",
       " 'note': 2,\n",
       " 'note,': 1,\n",
       " 'nothing': 1,\n",
       " 'now': 1,\n",
       " 'oasis': 1,\n",
       " 'obligation,': 1,\n",
       " 'obvious': 1,\n",
       " 'ocean': 1,\n",
       " 'of': 99,\n",
       " 'off': 2,\n",
       " 'old': 1,\n",
       " 'on': 5,\n",
       " 'one': 9,\n",
       " 'one.': 1,\n",
       " 'only': 1,\n",
       " 'opportunity': 1,\n",
       " 'oppression,': 1,\n",
       " 'or': 1,\n",
       " 'our': 17,\n",
       " 'out': 3,\n",
       " 'overlook': 1,\n",
       " 'own': 1,\n",
       " 'owners': 1,\n",
       " 'palace': 1,\n",
       " 'pass': 1,\n",
       " 'path': 1,\n",
       " 'people': 1,\n",
       " 'people,': 2,\n",
       " 'persecution': 1,\n",
       " 'physical': 2,\n",
       " 'place,': 1,\n",
       " 'places': 2,\n",
       " 'plain,': 1,\n",
       " 'plane': 1,\n",
       " 'pledge': 1,\n",
       " 'police': 2,\n",
       " 'poverty': 1,\n",
       " 'pray': 1,\n",
       " 'presence': 1,\n",
       " 'pride,': 1,\n",
       " 'process': 1,\n",
       " 'prodigious': 1,\n",
       " 'promise': 1,\n",
       " 'promises': 1,\n",
       " 'promissory': 2,\n",
       " 'prosperity.': 1,\n",
       " 'protest': 1,\n",
       " 'pursuit': 1,\n",
       " 'quest': 2,\n",
       " 'quicksands': 1,\n",
       " 'racial': 2,\n",
       " 'racists,': 1,\n",
       " 'real': 1,\n",
       " 'reality': 1,\n",
       " 'realize': 2,\n",
       " 'red': 1,\n",
       " 'redemptive.': 1,\n",
       " 'refuse': 2,\n",
       " 'remind': 1,\n",
       " 'republic': 1,\n",
       " 'rest': 1,\n",
       " 'returns': 1,\n",
       " 'revealed': 1,\n",
       " 'revolt': 1,\n",
       " 'riches': 1,\n",
       " 'right': 1,\n",
       " 'righteousness': 1,\n",
       " 'rightful': 1,\n",
       " 'rights,': 1,\n",
       " 'rights.': 1,\n",
       " 'ring': 9,\n",
       " 'ring!': 1,\n",
       " 'ring,': 1,\n",
       " 'ring.': 1,\n",
       " 'rise': 3,\n",
       " 'robbed': 1,\n",
       " 'rock': 1,\n",
       " 'rolls': 1,\n",
       " 'rooted': 1,\n",
       " 'rough': 1,\n",
       " 'rude': 1,\n",
       " 'sacred': 1,\n",
       " 'sadly': 1,\n",
       " 'satisfied': 6,\n",
       " 'satisfied,': 1,\n",
       " 'satisfied?\"': 1,\n",
       " 'satisfy': 1,\n",
       " 'say': 2,\n",
       " 'score': 1,\n",
       " 'seared': 1,\n",
       " 'security': 1,\n",
       " 'see': 1,\n",
       " 'seek': 1,\n",
       " 'segregation': 2,\n",
       " 'self-evident,': 1,\n",
       " 'self-hood': 1,\n",
       " 'sense': 1,\n",
       " 'shadow': 1,\n",
       " 'shake': 1,\n",
       " 'shall': 5,\n",
       " 'shameful': 1,\n",
       " 'signed': 1,\n",
       " 'signing': 1,\n",
       " 'signs': 1,\n",
       " 'sing': 2,\n",
       " 'sing.': 1,\n",
       " 'sisters': 1,\n",
       " 'sit': 1,\n",
       " 'situation': 1,\n",
       " 'sixty-three': 1,\n",
       " 'skin': 1,\n",
       " 'slave': 1,\n",
       " 'slaves': 2,\n",
       " 'slopes': 1,\n",
       " 'slums': 1,\n",
       " 'smaller': 1,\n",
       " 'snow-capped': 1,\n",
       " 'so': 3,\n",
       " 'so,': 1,\n",
       " 'society': 1,\n",
       " 'solid': 1,\n",
       " 'some': 2,\n",
       " 'somehow': 1,\n",
       " 'something': 1,\n",
       " 'sons': 2,\n",
       " 'soul': 1,\n",
       " 'speed': 1,\n",
       " 'spiritual:': 1,\n",
       " 'spot': 1,\n",
       " 'staggered': 1,\n",
       " 'stand': 3,\n",
       " 'state': 3,\n",
       " 'stating:': 1,\n",
       " 'steam': 1,\n",
       " 'still': 4,\n",
       " 'stone': 1,\n",
       " 'storms': 1,\n",
       " 'straight;': 1,\n",
       " 'stream.\"1': 1,\n",
       " 'stripped': 1,\n",
       " 'struggle': 2,\n",
       " 'suffering': 1,\n",
       " 'suffering.': 1,\n",
       " 'summer': 1,\n",
       " 'sunlit': 1,\n",
       " 'sweet': 1,\n",
       " 'sweltering': 3,\n",
       " 'symbolic': 1,\n",
       " 'symphony': 1,\n",
       " 'table': 1,\n",
       " 'take': 1,\n",
       " 'that': 23,\n",
       " 'that:': 1,\n",
       " 'the': 101,\n",
       " 'thee': 1,\n",
       " 'thee,': 1,\n",
       " 'their': 8,\n",
       " 'there': 5,\n",
       " 'these': 1,\n",
       " 'they': 3,\n",
       " 'thirst': 1,\n",
       " 'this': 15,\n",
       " 'those': 2,\n",
       " 'though': 1,\n",
       " 'threshold': 1,\n",
       " 'tied': 1,\n",
       " 'time': 5,\n",
       " 'to': 59,\n",
       " 'today': 4,\n",
       " 'today!': 2,\n",
       " 'today,': 3,\n",
       " 'together': 1,\n",
       " 'together,': 5,\n",
       " 'together.\"2': 1,\n",
       " 'tomorrow,': 1,\n",
       " 'tranquility': 1,\n",
       " 'tranquilizing': 1,\n",
       " 'transform': 1,\n",
       " 'transformed': 1,\n",
       " 'travel,': 1,\n",
       " 'trials': 1,\n",
       " 'tribulations.': 1,\n",
       " 'true': 1,\n",
       " 'true.': 1,\n",
       " 'truths': 1,\n",
       " 'turn': 1,\n",
       " 'unearned': 1,\n",
       " 'unmindful': 1,\n",
       " 'unspeakable': 1,\n",
       " 'until': 4,\n",
       " 'up': 4,\n",
       " 'upon': 1,\n",
       " 'urgency': 2,\n",
       " 'us': 4,\n",
       " 'usual.': 1,\n",
       " 'valley': 3,\n",
       " 'vast': 1,\n",
       " 'vaults': 1,\n",
       " 'veterans': 1,\n",
       " 'vicious': 1,\n",
       " 'victim': 1,\n",
       " 'village': 1,\n",
       " 'violence.': 1,\n",
       " 'vote': 1,\n",
       " 'vote.': 1,\n",
       " 'walk': 1,\n",
       " 'walk,': 1,\n",
       " 'wallow': 1,\n",
       " 'warm': 1,\n",
       " 'was': 2,\n",
       " 'waters,': 1,\n",
       " 'we': 18,\n",
       " \"we've\": 3,\n",
       " 'well': 1,\n",
       " 'were': 1,\n",
       " 'what': 1,\n",
       " 'when': 5,\n",
       " 'where': 3,\n",
       " 'which': 5,\n",
       " 'whirlwinds': 1,\n",
       " 'white': 6,\n",
       " 'who': 4,\n",
       " 'whose': 1,\n",
       " 'will': 27,\n",
       " 'winds': 1,\n",
       " 'with': 12,\n",
       " 'with.': 1,\n",
       " 'withering': 1,\n",
       " 'words': 3,\n",
       " 'work': 2,\n",
       " 'would': 2,\n",
       " 'wrongful': 1,\n",
       " 'wrote': 1,\n",
       " 'years': 5,\n",
       " 'yes,': 1,\n",
       " 'you': 7,\n",
       " 'your': 1}"
      ]
     },
     "execution_count": 236,
     "metadata": {},
     "output_type": "execute_result"
    }
   ],
   "source": [
    "from myUtil import *\n",
    "WordCount('ihaveadream.txt')"
   ]
  },
  {
   "cell_type": "markdown",
   "metadata": {},
   "source": [
    "OS에 종속적이지 않은 디렉토리 패스 완성 방법"
   ]
  },
  {
   "cell_type": "code",
   "execution_count": 237,
   "metadata": {},
   "outputs": [],
   "source": [
    "import os"
   ]
  },
  {
   "cell_type": "code",
   "execution_count": 250,
   "metadata": {},
   "outputs": [],
   "source": [
    "os.*sep*?"
   ]
  },
  {
   "cell_type": "code",
   "execution_count": 239,
   "metadata": {},
   "outputs": [
    {
     "data": {
      "text/plain": [
       "';'"
      ]
     },
     "execution_count": 239,
     "metadata": {},
     "output_type": "execute_result"
    }
   ],
   "source": [
    "os.pathsep"
   ]
  },
  {
   "cell_type": "code",
   "execution_count": 251,
   "metadata": {},
   "outputs": [
    {
     "data": {
      "text/plain": [
       "'\\\\'"
      ]
     },
     "execution_count": 251,
     "metadata": {},
     "output_type": "execute_result"
    }
   ],
   "source": [
    "os.sep"
   ]
  },
  {
   "cell_type": "code",
   "execution_count": 252,
   "metadata": {},
   "outputs": [
    {
     "data": {
      "text/plain": [
       "'aaa\\\\bbb\\\\ccc'"
      ]
     },
     "execution_count": 252,
     "metadata": {},
     "output_type": "execute_result"
    }
   ],
   "source": [
    "os.sep.join([\"aaa\", \"bbb\", \"ccc\"])"
   ]
  },
  {
   "cell_type": "markdown",
   "metadata": {},
   "source": [
    "NumPy"
   ]
  },
  {
   "cell_type": "markdown",
   "metadata": {},
   "source": [
    "객체 생성 연습"
   ]
  },
  {
   "cell_type": "code",
   "execution_count": 271,
   "metadata": {},
   "outputs": [],
   "source": [
    "import numpy as np\n",
    "from numpy import array, zeros, ones, empty, arange\n"
   ]
  },
  {
   "cell_type": "code",
   "execution_count": 273,
   "metadata": {},
   "outputs": [
    {
     "data": {
      "text/plain": [
       "array([ 0.,  1.,  2.,  3.,  4.,  5.,  6.,  7.,  8.,  9., 10., 11.])"
      ]
     },
     "execution_count": 273,
     "metadata": {},
     "output_type": "execute_result"
    }
   ],
   "source": [
    "arr1 = arange(12.)\n",
    "arr1"
   ]
  },
  {
   "cell_type": "code",
   "execution_count": 274,
   "metadata": {},
   "outputs": [
    {
     "data": {
      "text/plain": [
       "(12L,)"
      ]
     },
     "execution_count": 274,
     "metadata": {},
     "output_type": "execute_result"
    }
   ],
   "source": [
    "arr1.shape"
   ]
  },
  {
   "cell_type": "code",
   "execution_count": 275,
   "metadata": {},
   "outputs": [
    {
     "data": {
      "text/plain": [
       "  C_CONTIGUOUS : True\n",
       "  F_CONTIGUOUS : True\n",
       "  OWNDATA : True\n",
       "  WRITEABLE : True\n",
       "  ALIGNED : True\n",
       "  WRITEBACKIFCOPY : False\n",
       "  UPDATEIFCOPY : False"
      ]
     },
     "execution_count": 275,
     "metadata": {},
     "output_type": "execute_result"
    }
   ],
   "source": [
    "arr1.flags"
   ]
  },
  {
   "cell_type": "code",
   "execution_count": 276,
   "metadata": {},
   "outputs": [
    {
     "data": {
      "text/plain": [
       "array([[ 0.,  1.,  2.,  3.],\n",
       "       [ 4.,  5.,  6.,  7.],\n",
       "       [ 8.,  9., 10., 11.]])"
      ]
     },
     "execution_count": 276,
     "metadata": {},
     "output_type": "execute_result"
    }
   ],
   "source": [
    "arr2=arange(12.0).reshape((3,4))\n",
    "arr2"
   ]
  },
  {
   "cell_type": "code",
   "execution_count": 277,
   "metadata": {},
   "outputs": [
    {
     "data": {
      "text/plain": [
       "(3L, 4L)"
      ]
     },
     "execution_count": 277,
     "metadata": {},
     "output_type": "execute_result"
    }
   ],
   "source": [
    "arr2.shape"
   ]
  },
  {
   "cell_type": "code",
   "execution_count": 278,
   "metadata": {},
   "outputs": [
    {
     "data": {
      "text/plain": [
       "  C_CONTIGUOUS : True\n",
       "  F_CONTIGUOUS : False\n",
       "  OWNDATA : False\n",
       "  WRITEABLE : True\n",
       "  ALIGNED : True\n",
       "  WRITEBACKIFCOPY : False\n",
       "  UPDATEIFCOPY : False"
      ]
     },
     "execution_count": 278,
     "metadata": {},
     "output_type": "execute_result"
    }
   ],
   "source": [
    "arr2.flags"
   ]
  },
  {
   "cell_type": "markdown",
   "metadata": {},
   "source": [
    "색인 연습"
   ]
  },
  {
   "cell_type": "code",
   "execution_count": 279,
   "metadata": {},
   "outputs": [
    {
     "data": {
      "text/plain": [
       "array([ 0.,  1.,  2.,  3.,  4.,  5.,  6.,  7.,  8.,  9., 10., 11.])"
      ]
     },
     "execution_count": 279,
     "metadata": {},
     "output_type": "execute_result"
    }
   ],
   "source": [
    "arr1"
   ]
  },
  {
   "cell_type": "code",
   "execution_count": 281,
   "metadata": {},
   "outputs": [
    {
     "data": {
      "text/plain": [
       "2.0"
      ]
     },
     "execution_count": 281,
     "metadata": {},
     "output_type": "execute_result"
    }
   ],
   "source": [
    "arr1[2]"
   ]
  },
  {
   "cell_type": "code",
   "execution_count": 280,
   "metadata": {},
   "outputs": [
    {
     "data": {
      "text/plain": [
       "array([2., 3., 4.])"
      ]
     },
     "execution_count": 280,
     "metadata": {},
     "output_type": "execute_result"
    }
   ],
   "source": [
    "arr1[2:5]"
   ]
  },
  {
   "cell_type": "code",
   "execution_count": 282,
   "metadata": {},
   "outputs": [
    {
     "data": {
      "text/plain": [
       "array([ 6.,  7.,  8.,  9., 10., 11.])"
      ]
     },
     "execution_count": 282,
     "metadata": {},
     "output_type": "execute_result"
    }
   ],
   "source": [
    "arr1[arr1>5]"
   ]
  },
  {
   "cell_type": "code",
   "execution_count": 283,
   "metadata": {},
   "outputs": [
    {
     "data": {
      "text/plain": [
       "array([5., 2., 3., 1.])"
      ]
     },
     "execution_count": 283,
     "metadata": {},
     "output_type": "execute_result"
    }
   ],
   "source": [
    "arr1[[5, 2, 3, 1]]"
   ]
  },
  {
   "cell_type": "code",
   "execution_count": 290,
   "metadata": {},
   "outputs": [],
   "source": [
    "from PIL import Image\n",
    "import matplotlib.pyplot as plt"
   ]
  },
  {
   "cell_type": "code",
   "execution_count": 286,
   "metadata": {},
   "outputs": [],
   "source": [
    "img = Image.open('images/2.jpg')"
   ]
  },
  {
   "cell_type": "code",
   "execution_count": 288,
   "metadata": {},
   "outputs": [],
   "source": [
    "a = array(img)"
   ]
  },
  {
   "cell_type": "code",
   "execution_count": 292,
   "metadata": {},
   "outputs": [
    {
     "data": {
      "text/plain": [
       "(251L, 201L, 3L)"
      ]
     },
     "execution_count": 292,
     "metadata": {},
     "output_type": "execute_result"
    }
   ],
   "source": [
    "a.shape"
   ]
  },
  {
   "cell_type": "code",
   "execution_count": 293,
   "metadata": {},
   "outputs": [],
   "source": [
    "a[:100, :100, 0] = 255."
   ]
  },
  {
   "cell_type": "code",
   "execution_count": 294,
   "metadata": {},
   "outputs": [
    {
     "data": {
      "text/plain": [
       "<matplotlib.image.AxesImage at 0x17a88400>"
      ]
     },
     "execution_count": 294,
     "metadata": {},
     "output_type": "execute_result"
    },
    {
     "data": {
      "image/png": "[encoded data removed]",
      "text/plain": [
       "<Figure size 432x288 with 1 Axes>"
      ]
     },
     "metadata": {},
     "output_type": "display_data"
    }
   ],
   "source": [
    "plt.imshow(a)"
   ]
  },
  {
   "cell_type": "code",
   "execution_count": 365,
   "metadata": {},
   "outputs": [],
   "source": [
    "b = ones((5, 5, 3))*0."
   ]
  },
  {
   "cell_type": "code",
   "execution_count": 366,
   "metadata": {},
   "outputs": [
    {
     "data": {
      "text/plain": [
       "(5L, 5L, 3L)"
      ]
     },
     "execution_count": 366,
     "metadata": {},
     "output_type": "execute_result"
    }
   ],
   "source": [
    "b.shape"
   ]
  },
  {
   "cell_type": "code",
   "execution_count": 367,
   "metadata": {},
   "outputs": [],
   "source": [
    "b[:5, :5, 0] = 255."
   ]
  },
  {
   "cell_type": "code",
   "execution_count": 368,
   "metadata": {},
   "outputs": [],
   "source": [
    "b[:4, :4, 1] = 255."
   ]
  },
  {
   "cell_type": "code",
   "execution_count": 369,
   "metadata": {},
   "outputs": [],
   "source": [
    "b[:3, :3, 2] = 255."
   ]
  },
  {
   "cell_type": "code",
   "execution_count": 395,
   "metadata": {},
   "outputs": [],
   "source": [
    "b[[True, False,False, True, True],:,0] = 0."
   ]
  },
  {
   "cell_type": "code",
   "execution_count": 396,
   "metadata": {},
   "outputs": [
    {
     "data": {
      "text/plain": [
       "<matplotlib.image.AxesImage at 0x1cb6e0b8>"
      ]
     },
     "execution_count": 396,
     "metadata": {},
     "output_type": "execute_result"
    },
    {
     "data": {
      "image/png": "[encoded data removed]",
      "text/plain": [
       "<Figure size 432x288 with 1 Axes>"
      ]
     },
     "metadata": {},
     "output_type": "display_data"
    }
   ],
   "source": [
    "plt.imshow(b)"
   ]
  },
  {
   "cell_type": "code",
   "execution_count": 397,
   "metadata": {},
   "outputs": [
    {
     "data": {
      "text/plain": [
       "array(['Bob', 'Joe', 'Will', 'Bob', 'Will', 'Joe', 'Joe'], dtype='|S4')"
      ]
     },
     "execution_count": 397,
     "metadata": {},
     "output_type": "execute_result"
    }
   ],
   "source": [
    "names = array(['Bob', 'Joe', 'Will', 'Bob', 'Will', 'Joe', 'Joe'])\n",
    "data = arange(28.).reshape(7,4)\n",
    "names"
   ]
  },
  {
   "cell_type": "code",
   "execution_count": 363,
   "metadata": {},
   "outputs": [
    {
     "data": {
      "text/plain": [
       "array([[ 0.,  1.,  2.,  3.],\n",
       "       [ 4.,  5.,  6.,  7.],\n",
       "       [ 8.,  9., 10., 11.],\n",
       "       [12., 13., 14., 15.],\n",
       "       [16., 17., 18., 19.],\n",
       "       [20., 21., 22., 23.],\n",
       "       [24., 25., 26., 27.]])"
      ]
     },
     "execution_count": 363,
     "metadata": {},
     "output_type": "execute_result"
    }
   ],
   "source": [
    "data"
   ]
  },
  {
   "cell_type": "code",
   "execution_count": 364,
   "metadata": {},
   "outputs": [
    {
     "data": {
      "text/plain": [
       "array([[ 0.,  1.,  2.,  3.],\n",
       "       [12., 13., 14., 15.]])"
      ]
     },
     "execution_count": 364,
     "metadata": {},
     "output_type": "execute_result"
    }
   ],
   "source": [
    "data[[True, False, False, True, False, False, False]]"
   ]
  },
  {
   "cell_type": "code",
   "execution_count": 398,
   "metadata": {},
   "outputs": [
    {
     "data": {
      "text/plain": [
       "array([ True, False, False,  True, False, False, False])"
      ]
     },
     "execution_count": 398,
     "metadata": {},
     "output_type": "execute_result"
    }
   ],
   "source": [
    "names == 'Bob'"
   ]
  },
  {
   "cell_type": "code",
   "execution_count": 402,
   "metadata": {},
   "outputs": [
    {
     "data": {
      "text/plain": [
       "array([ 2., 14.])"
      ]
     },
     "execution_count": 402,
     "metadata": {},
     "output_type": "execute_result"
    }
   ],
   "source": [
    "data[names == 'Bob', 2]"
   ]
  },
  {
   "cell_type": "code",
   "execution_count": 400,
   "metadata": {},
   "outputs": [
    {
     "data": {
      "text/plain": [
       "array([11., 12., 13., 14., 15., 16., 17., 18., 19., 20., 21., 22., 23.,\n",
       "       24., 25., 26., 27.])"
      ]
     },
     "execution_count": 400,
     "metadata": {},
     "output_type": "execute_result"
    }
   ],
   "source": [
    "data[data > 10.]"
   ]
  },
  {
   "cell_type": "code",
   "execution_count": 415,
   "metadata": {},
   "outputs": [
    {
     "data": {
      "text/plain": [
       "array([3., 1., 5., 4., 2.])"
      ]
     },
     "execution_count": 415,
     "metadata": {},
     "output_type": "execute_result"
    }
   ],
   "source": [
    "a = array([3., 1., 5., 4., 2.])\n",
    "a"
   ]
  },
  {
   "cell_type": "code",
   "execution_count": 416,
   "metadata": {},
   "outputs": [
    {
     "data": {
      "text/plain": [
       "array([1, 4, 0, 3, 2], dtype=int64)"
      ]
     },
     "execution_count": 416,
     "metadata": {},
     "output_type": "execute_result"
    }
   ],
   "source": [
    "a.argsort()"
   ]
  },
  {
   "cell_type": "code",
   "execution_count": 417,
   "metadata": {},
   "outputs": [
    {
     "data": {
      "text/plain": [
       "array(['b', 'd', 'a', 'd', 'c'], dtype='|S1')"
      ]
     },
     "execution_count": 417,
     "metadata": {},
     "output_type": "execute_result"
    }
   ],
   "source": [
    "b = array(['a', 'b', 'c', 'd', 'd'])\n",
    "b[a.argsort()]"
   ]
  },
  {
   "cell_type": "code",
   "execution_count": 418,
   "metadata": {},
   "outputs": [
    {
     "data": {
      "text/plain": [
       "array(['c', 'd', 'a', 'd', 'b'], dtype='|S1')"
      ]
     },
     "execution_count": 418,
     "metadata": {},
     "output_type": "execute_result"
    }
   ],
   "source": [
    "b[a.argsort()][::-1]"
   ]
  },
  {
   "cell_type": "markdown",
   "metadata": {},
   "source": [
    "로또 추첨기 에뮬레이터"
   ]
  },
  {
   "cell_type": "code",
   "execution_count": 509,
   "metadata": {},
   "outputs": [],
   "source": [
    "from numpy.random import permutation, seed\n",
    "from time import time"
   ]
  },
  {
   "cell_type": "code",
   "execution_count": 479,
   "metadata": {},
   "outputs": [],
   "source": [
    "seed(int(time()))"
   ]
  },
  {
   "cell_type": "code",
   "execution_count": 521,
   "metadata": {},
   "outputs": [
    {
     "data": {
      "text/plain": [
       "array([1, 0, 2])"
      ]
     },
     "execution_count": 521,
     "metadata": {},
     "output_type": "execute_result"
    }
   ],
   "source": [
    "permutation(3)"
   ]
  },
  {
   "cell_type": "code",
   "execution_count": 535,
   "metadata": {},
   "outputs": [
    {
     "data": {
      "text/plain": [
       "array([44, 35, 14, 39,  9,  3])"
      ]
     },
     "execution_count": 535,
     "metadata": {},
     "output_type": "execute_result"
    }
   ],
   "source": [
    "seed(int(time()))\n",
    "NumberOfThisWeek = (permutation(45)+1)[:6]\n",
    "NumberOfThisWeek"
   ]
  },
  {
   "cell_type": "code",
   "execution_count": 536,
   "metadata": {},
   "outputs": [],
   "source": [
    "import matplotlib.pyplot as plt"
   ]
  },
  {
   "cell_type": "code",
   "execution_count": 537,
   "metadata": {},
   "outputs": [],
   "source": [
    "a = arange(10)"
   ]
  },
  {
   "cell_type": "code",
   "execution_count": 538,
   "metadata": {},
   "outputs": [
    {
     "data": {
      "text/plain": [
       "[<matplotlib.lines.Line2D at 0x1cc95240>]"
      ]
     },
     "execution_count": 538,
     "metadata": {},
     "output_type": "execute_result"
    },
    {
     "data": {
      "image/png": "[encoded data removed]",
      "text/plain": [
       "<Figure size 432x288 with 1 Axes>"
      ]
     },
     "metadata": {},
     "output_type": "display_data"
    }
   ],
   "source": [
    "plt.plot(a)"
   ]
  },
  {
   "cell_type": "code",
   "execution_count": 539,
   "metadata": {},
   "outputs": [],
   "source": [
    "from numpy import matrix"
   ]
  },
  {
   "cell_type": "code",
   "execution_count": 540,
   "metadata": {},
   "outputs": [],
   "source": [
    "m = matrix(arange(10))"
   ]
  },
  {
   "cell_type": "code",
   "execution_count": 541,
   "metadata": {},
   "outputs": [
    {
     "data": {
      "text/plain": [
       "(1L, 10L)"
      ]
     },
     "execution_count": 541,
     "metadata": {},
     "output_type": "execute_result"
    }
   ],
   "source": [
    "m.shape"
   ]
  },
  {
   "cell_type": "code",
   "execution_count": 542,
   "metadata": {},
   "outputs": [
    {
     "data": {
      "text/plain": [
       "matrix([[0, 1, 2, 3, 4, 5, 6, 7, 8, 9]])"
      ]
     },
     "execution_count": 542,
     "metadata": {},
     "output_type": "execute_result"
    }
   ],
   "source": [
    "m"
   ]
  },
  {
   "cell_type": "code",
   "execution_count": 550,
   "metadata": {},
   "outputs": [
    {
     "data": {
      "text/plain": [
       "4"
      ]
     },
     "execution_count": 550,
     "metadata": {},
     "output_type": "execute_result"
    }
   ],
   "source": [
    "m[:,4].A[0,0]"
   ]
  },
  {
   "cell_type": "code",
   "execution_count": 571,
   "metadata": {},
   "outputs": [],
   "source": [
    "import matplotlib.pyplot as plt\n",
    "from numpy import sin, arange\n",
    "x = arange(-100., 100.)*0.1\n",
    "y = 3.0 * sin(x)"
   ]
  },
  {
   "cell_type": "code",
   "execution_count": 572,
   "metadata": {},
   "outputs": [
    {
     "data": {
      "text/plain": [
       "<matplotlib.collections.PathCollection at 0x1d6f1e48>"
      ]
     },
     "execution_count": 572,
     "metadata": {},
     "output_type": "execute_result"
    },
    {
     "data": {
      "image/png": "[encoded data removed]",
      "text/plain": [
       "<Figure size 432x288 with 1 Axes>"
      ]
     },
     "metadata": {},
     "output_type": "display_data"
    }
   ],
   "source": [
    "plt.scatter(x, y)"
   ]
  },
  {
   "cell_type": "markdown",
   "metadata": {},
   "source": [
    "python_score.csv 파일을 읽어들여서 문제 별 오답율 계산"
   ]
  },
  {
   "cell_type": "code",
   "execution_count": 573,
   "metadata": {},
   "outputs": [],
   "source": [
    "score = np.loadtxt('python_score.csv', delimiter=',', dtype='float64')"
   ]
  }
 ],
 "metadata": {
  "kernelspec": {
   "display_name": "Python 2",
   "language": "python",
   "name": "python2"
  },
  "language_info": {
   "codemirror_mode": {
    "name": "ipython",
    "version": 2
   },
   "file_extension": ".py",
   "mimetype": "text/x-python",
   "name": "python",
   "nbconvert_exporter": "python",
   "pygments_lexer": "ipython2",
   "version": "2.7.15"
  }
 },
 "nbformat": 4,
 "nbformat_minor": 2
}
